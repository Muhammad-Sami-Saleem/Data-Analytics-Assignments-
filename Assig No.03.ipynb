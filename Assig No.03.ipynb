{
 "cells": [
  {
   "cell_type": "code",
   "execution_count": 1,
   "id": "baa90c11-a116-47af-8677-27299d7cedda",
   "metadata": {},
   "outputs": [],
   "source": [
    "#Question 1: Age Group Classification\n",
    "#Write a Python program that takes the age of a person as input and classifies them into one of the following age groups:\n",
    "#\"Child\" if the age is between 0 and 12 (inclusive).\n",
    "#\"Teenager\" if the age is between 13 and 19 (inclusive).\n",
    "#\"Adult\" if the age is between 20 and 64 (inclusive).\n",
    "#\"Senior\" if the age is 65 or older."
   ]
  },
  {
   "cell_type": "code",
   "execution_count": 22,
   "id": "d2816747-7287-4a6e-9073-db3a8358b3ba",
   "metadata": {},
   "outputs": [
    {
     "name": "stdin",
     "output_type": "stream",
     "text": [
      "enter your age 57\n"
     ]
    },
    {
     "name": "stdout",
     "output_type": "stream",
     "text": [
      "Adult\n"
     ]
    }
   ],
   "source": [
    "age = int(input(\"enter your age\"))\n",
    "if 0 <= age <= 12:\n",
    "    print(\"child\")\n",
    "elif 13 <= age <= 19:\n",
    "    print(\"Teenager\")\n",
    "elif 20 <= age <= 64:\n",
    "    print(\"Adult\")\n",
    "elif age >= 65:\n",
    "    print(\"Senior\")\n",
    "else:\n",
    "    print(\"Wrong Entry\")"
   ]
  },
  {
   "cell_type": "code",
   "execution_count": 5,
   "id": "07c59ad3-9377-411f-b0fd-f5e5d73ca681",
   "metadata": {},
   "outputs": [],
   "source": [
    "#Q2. Write a Python program that asks the user to enter an email address. The program should check if the email contains the \n",
    "#characters @ and \".\" (ignoring case). If either character is present, print \"Email format is valid.\" Otherwise, print \"Invalid email format.\""
   ]
  },
  {
   "cell_type": "code",
   "execution_count": 23,
   "id": "fbcd55da-3084-48f7-8208-a4216ef6b386",
   "metadata": {},
   "outputs": [
    {
     "name": "stdin",
     "output_type": "stream",
     "text": [
      "Enter your email address muhammadsamiawanrrr89@gmail.com\n"
     ]
    },
    {
     "name": "stdout",
     "output_type": "stream",
     "text": [
      "Email format is valid.\n"
     ]
    }
   ],
   "source": [
    "email = input(\"Enter your email address\")\n",
    "\n",
    "if \"@\" in email and \".\" in email:\n",
    "    print(\"Email format is valid.\")\n",
    "else:\n",
    "    print(\"Invalid email format.\")\n"
   ]
  },
  {
   "cell_type": "code",
   "execution_count": null,
   "id": "6198e503-5c3d-4b55-ae50-b211b73de197",
   "metadata": {},
   "outputs": [],
   "source": [
    "#Q3. Write a Python program that takes three numbers as input and determines the largest among them. \n",
    "#Also, check if any or all of the numbers are equal.\""
   ]
  },
  {
   "cell_type": "code",
   "execution_count": 8,
   "id": "9cad2464-caf9-4c35-a066-aa447c079b5a",
   "metadata": {},
   "outputs": [
    {
     "name": "stdin",
     "output_type": "stream",
     "text": [
      "Enter the first number: 3\n",
      "Enter the second number: 4\n",
      "Enter the third number: 6\n"
     ]
    },
    {
     "name": "stdout",
     "output_type": "stream",
     "text": [
      "The largest number among the three is: 6.0\n"
     ]
    }
   ],
   "source": [
    "num1 = float(input(\"Enter the first number:\"))\n",
    "num2 = float(input(\"Enter the second number:\"))\n",
    "num3 = float(input(\"Enter the third number:\"))\n",
    "\n",
    "if num1 == num2 == num3:\n",
    "    print(\"All three numbers are equal.\")\n",
    "elif num1 == num2 or num1 == num3 or num2 == num3:\n",
    "    print(\"Some of the numbers are equal.\")\n",
    "    largest = max(num1, num2, num3)\n",
    "    print(f\"The largest number among the three is: {largest}\")\n",
    "else:\n",
    "    largest = max(num1, num2, num3)\n",
    "    print(f\"The largest number among the three is: {largest}\")"
   ]
  },
  {
   "cell_type": "code",
   "execution_count": null,
   "id": "aa806320-c60a-4cfd-a556-7bc283814188",
   "metadata": {},
   "outputs": [],
   "source": [
    "#Q4. Write a Python program that:\n",
    "#Asks the user to enter a number.\n",
    "#Checks whether the number is positive.\n",
    "#If yes, further check if it's even or odd.\n",
    "#Print \"The number is positive and even\" if divisible by 2.\n",
    "#Print \"The number is positive and odd\" if not divisible by 2.\n",
    "#If the number is zero or negative, print \"The number is not positive\"."
   ]
  },
  {
   "cell_type": "code",
   "execution_count": 15,
   "id": "13ad9476-5ac2-4c6b-b94a-10cdbff0aedb",
   "metadata": {},
   "outputs": [
    {
     "name": "stdin",
     "output_type": "stream",
     "text": [
      "Enter a number: -3\n"
     ]
    },
    {
     "name": "stdout",
     "output_type": "stream",
     "text": [
      "The number is not positive\n"
     ]
    }
   ],
   "source": [
    "number = int(input(\"Enter a number:\"))\n",
    "\n",
    "if number > 0:\n",
    "    if number % 2 == 0:\n",
    "        print(\"The number is positive and even\")\n",
    "    else:\n",
    "        print(\"The number is positive and odd\")\n",
    "else:\n",
    "    print(\"The number is not positive\")"
   ]
  },
  {
   "cell_type": "code",
   "execution_count": 16,
   "id": "5a2e1a39-0fba-4d77-a59b-e6f89f73f9ee",
   "metadata": {},
   "outputs": [],
   "source": [
    "#Q5. Ask the user for a username and password. Check if the username is correct. If it is, then check if the password is correct.\n",
    "#If both are correct, print \"Access granted\".\n",
    "#username = \"admin\"\n",
    "#password = \"1234\""
   ]
  },
  {
   "cell_type": "code",
   "execution_count": 21,
   "id": "0bb85658-688b-40f2-b27f-c677c2a35745",
   "metadata": {},
   "outputs": [
    {
     "name": "stdin",
     "output_type": "stream",
     "text": [
      "Enter Username admin\n",
      "Enter your password 1234\n"
     ]
    },
    {
     "name": "stdout",
     "output_type": "stream",
     "text": [
      "Access granted\n"
     ]
    }
   ],
   "source": [
    "correct_username = \"admin\"\n",
    "correct_password = \"1234\"\n",
    "\n",
    "input_username = input(\"Enter Username\")\n",
    "input_password = input(\"Enter your password\")\n",
    "\n",
    "if input_username == correct_username:\n",
    "    if input_password == correct_password:\n",
    "        print(\"Access granted\")\n",
    "    else:\n",
    "        print(\"Incorrect password\")\n",
    "else:\n",
    "    print(\"Incorrect username\")"
   ]
  },
  {
   "cell_type": "code",
   "execution_count": 22,
   "id": "c3e89f8a-ad0a-4927-8aa0-03729c63d6b7",
   "metadata": {},
   "outputs": [],
   "source": [
    "#Q6. Take an integer input from the user and check whether the entered value exists in the tuple my_tuple = (5, 10, 15, 20, 25).\n",
    "#Print an appropriate message based on the result."
   ]
  },
  {
   "cell_type": "code",
   "execution_count": 25,
   "id": "ea48b81a-2022-4bb4-b50c-04d808838e48",
   "metadata": {},
   "outputs": [
    {
     "name": "stdin",
     "output_type": "stream",
     "text": [
      "Enter an integer:  smai\n"
     ]
    },
    {
     "name": "stdout",
     "output_type": "stream",
     "text": [
      "Invalid input. Please enter an integer.\n"
     ]
    }
   ],
   "source": [
    "my_tuple = (5, 10, 15, 20, 25)\n",
    "try:\n",
    "    user_input = int(input(\"Enter an integer: \"))\n",
    "    \n",
    "    if user_input in my_tuple:\n",
    "        print(f\"{user_input} exists in the tuple.\")\n",
    "    else:\n",
    "        print(f\"{user_input} does not exist in the tuple.\")\n",
    "except ValueError:\n",
    "    print(\"Invalid input. Please enter an integer.\")\n"
   ]
  },
  {
   "cell_type": "code",
   "execution_count": null,
   "id": "b0ed49f9-2be9-46f9-9ff7-51895b3e0584",
   "metadata": {},
   "outputs": [],
   "source": [
    "#Q7. Create a program that takes the user's first name, last name, and age as input, packs them into a tuple, and prints the tuple."
   ]
  },
  {
   "cell_type": "code",
   "execution_count": 26,
   "id": "7979eb3e-dba7-4f62-9a58-6208173484a4",
   "metadata": {},
   "outputs": [
    {
     "name": "stdin",
     "output_type": "stream",
     "text": [
      "Enter your first name: muhammad\n",
      "Enter your last name: sami\n",
      "Enter your age: 25\n"
     ]
    },
    {
     "name": "stdout",
     "output_type": "stream",
     "text": [
      "User information as a tuple: ('muhammad', 'sami', '25')\n"
     ]
    }
   ],
   "source": [
    "first_name = input(\"Enter your first name:\")\n",
    "last_name = input(\"Enter your last name:\")\n",
    "age = input(\"Enter your age:\")\n",
    "\n",
    "user_information = (first_name, last_name, age)\n",
    "\n",
    "print(\"User information as a tuple:\", user_information)"
   ]
  },
  {
   "cell_type": "code",
   "execution_count": 27,
   "id": "3b58eed7-658a-4082-ab31-8c829786fe5a",
   "metadata": {},
   "outputs": [],
   "source": [
    "#Q8. Given the tuple coordinates = (4, 5, 6), unpack the elements of the tuple into three variables x, y, and z.\n",
    "#Then, calculate and print the sum of the variables."
   ]
  },
  {
   "cell_type": "code",
   "execution_count": 28,
   "id": "1101b9d4-3128-46b9-87a3-6652d96e591b",
   "metadata": {},
   "outputs": [
    {
     "name": "stdout",
     "output_type": "stream",
     "text": [
      "Sum of x, y, and z: 15\n"
     ]
    }
   ],
   "source": [
    "coordinates = (4, 5, 6)\n",
    "\n",
    "x, y, z = coordinates\n",
    "\n",
    "total = x + y + z\n",
    "\n",
    "print(\"Sum of x, y, and z:\", total)"
   ]
  },
  {
   "cell_type": "code",
   "execution_count": 10,
   "id": "467b4b54-2336-4369-b4b3-09bc17a51e80",
   "metadata": {},
   "outputs": [],
   "source": [
    "#Q9. Given the tuple my_tuple = (1, 2, 3, 4, 5), remove the element 3 from the tuple by first converting\n",
    "#it to a list, and then print the resulting tuple."
   ]
  },
  {
   "cell_type": "code",
   "execution_count": 17,
   "id": "a43433f2-38ee-4f06-9657-352c4a9a5127",
   "metadata": {},
   "outputs": [
    {
     "name": "stdout",
     "output_type": "stream",
     "text": [
      "[1, 2, 4, 5]\n"
     ]
    }
   ],
   "source": [
    "my_tuple = (1,2,3,4,5)\n",
    "my_list = list(my_tuple)\n",
    "my_list.remove(3)\n",
    "print(my_list)"
   ]
  },
  {
   "cell_type": "code",
   "execution_count": 2,
   "id": "28be3192-194e-437a-89cb-4275f374aea4",
   "metadata": {},
   "outputs": [],
   "source": [
    "#Q10. Given the tuple numbers = (10, 20, 5, 30, 15), find and print the maximum and minimum values in the tuple."
   ]
  },
  {
   "cell_type": "code",
   "execution_count": 21,
   "id": "535c8dec-07d2-4ba0-a0e9-fe27295a9527",
   "metadata": {},
   "outputs": [
    {
     "name": "stdout",
     "output_type": "stream",
     "text": [
      "30\n",
      "5\n"
     ]
    }
   ],
   "source": [
    "numbers = (10, 20, 5, 30, 15)\n",
    "numbers\n",
    "print(max(numbers))\n",
    "print(min(numbers))"
   ]
  }
 ],
 "metadata": {
  "kernelspec": {
   "display_name": "Python 3 (ipykernel)",
   "language": "python",
   "name": "python3"
  },
  "language_info": {
   "codemirror_mode": {
    "name": "ipython",
    "version": 3
   },
   "file_extension": ".py",
   "mimetype": "text/x-python",
   "name": "python",
   "nbconvert_exporter": "python",
   "pygments_lexer": "ipython3",
   "version": "3.12.7"
  }
 },
 "nbformat": 4,
 "nbformat_minor": 5
}
