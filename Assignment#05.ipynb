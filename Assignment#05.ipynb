{
 "cells": [
  {
   "cell_type": "markdown",
   "id": "a758a746-ab4b-48b6-98dc-45093b46607d",
   "metadata": {},
   "source": [
    "1. Write a Python function called add_numbers that takes two numbers as arguments and returns their sum. Then, test the function by calling it with two numbers of your choice."
   ]
  },
  {
   "cell_type": "code",
   "execution_count": 26,
   "id": "278e4fcb-588d-4faa-b8bb-5182509ec9e1",
   "metadata": {},
   "outputs": [
    {
     "name": "stdout",
     "output_type": "stream",
     "text": [
      "89\n"
     ]
    }
   ],
   "source": [
    "\n",
    "#defining a function:\n",
    "def add_numbers(num1, num2):\n",
    "    print(num1+num2)\n",
    "\n",
    "#implementation of user define function:\n",
    "add_numbers(22,67)\n"
   ]
  },
  {
   "cell_type": "markdown",
   "id": "73ff5400-836c-44ee-aeeb-0b84be9db4d8",
   "metadata": {},
   "source": [
    "2. Create a Python function called currency_converter() that takes two arguments:\n",
    "\n",
    "- amount: The amount of money to be converted (in USD).\n",
    "- exchange_rate (default is 280): The conversion rate from USD to another currency (e.g., PKR). You can assume the default rate is 1 USD = 280 PKR.\n",
    "\n",
    "The function should return a message showing how much the given amount is worth in the target currency (PKR)."
   ]
  },
  {
   "cell_type": "code",
   "execution_count": 27,
   "id": "2598a937-5b94-4e2f-bcdc-312187e24025",
   "metadata": {},
   "outputs": [
    {
     "name": "stdout",
     "output_type": "stream",
     "text": [
      "1000 USD is equals to 280000 PKR\n",
      "2678 USD is equals to 749840 PKR\n",
      "38 USD is equals to 10640 PKR\n"
     ]
    }
   ],
   "source": [
    "#defining a function:\n",
    "def currency_converter(amount, exchange_rate=280):\n",
    "    converted_rate = amount * exchange_rate\n",
    "    return f\"{amount} USD is equals to {converted_rate} PKR\"\n",
    "\n",
    "#implementation of user define function:\n",
    "print(currency_converter(1000,))\n",
    "print(currency_converter(2678,))\n",
    "print(currency_converter(38,))\n"
   ]
  },
  {
   "cell_type": "markdown",
   "id": "0f49a1a2-234e-434f-bbc1-bb5ed293e2c4",
   "metadata": {},
   "source": [
    "3. Write a Python function display_student_info that accepts the following details about a student:\n",
    "\n",
    "- name (Keyword argument): The name of the student.\n",
    "- age (Keyword argument): The age of the student.\n",
    "- grade (Keyword argument): The grade the student is in.\n",
    "- school (Keyword argument): The name of the school the student attends."
   ]
  },
  {
   "cell_type": "code",
   "execution_count": 28,
   "id": "11059724-69db-4e87-9c6e-9803fb330341",
   "metadata": {},
   "outputs": [
    {
     "name": "stdout",
     "output_type": "stream",
     "text": [
      "Student Information:\n",
      "Name: Jhon\n",
      "Age: 15\n",
      "Grade: 10th\n",
      "School: High School\n"
     ]
    }
   ],
   "source": [
    "#defining a function:\n",
    "def display_student_info(**kwargs):\n",
    "    required_args = ['name', 'age', 'grade', 'school']\n",
    "    for arg in required_args:\n",
    "        if arg not in kwargs:\n",
    "            raise valueError(f\"Missing required arguments: {arg}\")\n",
    "\n",
    "    #Display the student information:\n",
    "    print(\"Student Information:\")\n",
    "    print(f\"Name: {kwargs['name']}\")\n",
    "    print(f\"Age: {kwargs['age']}\")\n",
    "    print(f\"Grade: {kwargs['grade']}\")\n",
    "    print(f\"School: {kwargs['school']}\")\n",
    "\n",
    "#implementation of user define function:\n",
    "display_student_info(name=\"Jhon\", age=15, grade=\"10th\", school=\"High School\")"
   ]
  },
  {
   "cell_type": "markdown",
   "id": "6bd6698d-f556-439a-981f-dfa0ef46ed9a",
   "metadata": {},
   "source": [
    "4. Write a Python function calculate_price that accepts two positional arguments:\n",
    "\n",
    "- price: The price of a single item.\n",
    "- quantity: The number of items bought.\n",
    "- The function should return the total price by multiplying price and quantity."
   ]
  },
  {
   "cell_type": "code",
   "execution_count": 29,
   "id": "eefbcf46-ca8a-493d-812f-330065925c56",
   "metadata": {},
   "outputs": [
    {
     "name": "stdout",
     "output_type": "stream",
     "text": [
      "81900\n"
     ]
    }
   ],
   "source": [
    "#defining a function:\n",
    "def calculate_price(price, quantity):\n",
    "    print(price*quantity)\n",
    "\n",
    "#implementation of user define function:\n",
    "calculate_price(910,90)\n"
   ]
  },
  {
   "cell_type": "markdown",
   "id": "e589be97-b036-4b13-86b9-9d3312761a0c",
   "metadata": {},
   "source": [
    "5. Write a Python function display_prices that takes a product name and an arbitrary number of keyword arguments representing product prices. The function should display each product and its price.\n",
    "\n",
    "Product: Laptop\n",
    "\n",
    "Amazon: $800\n",
    "\n",
    "eBay: $750\n",
    "\n",
    "Walmart: $780"
   ]
  },
  {
   "cell_type": "code",
   "execution_count": 30,
   "id": "3482c093-1105-4835-88f1-81127f1aaf81",
   "metadata": {},
   "outputs": [
    {
     "name": "stdout",
     "output_type": "stream",
     "text": [
      "Amazon: $800\n",
      "ebay: $750\n",
      "Walmart: $780\n"
     ]
    }
   ],
   "source": [
    "#defining a function:\n",
    "def display_prices(products, **kwargs):\n",
    "    for retailer, price in kwargs.items():\n",
    "        print(f\"{retailer}: {price}\")\n",
    "\n",
    "#implementation of user define function:\n",
    "display_prices(\"laptop\", Amazon=\"$800\", ebay=\"$750\", Walmart=\"$780\")"
   ]
  },
  {
   "cell_type": "markdown",
   "id": "5a5910f5-e54e-4515-8c98-c3898f96c1ca",
   "metadata": {},
   "source": [
    "6. Write a Python function find_max that takes any number of numerical arguments and returns the maximum number."
   ]
  },
  {
   "cell_type": "code",
   "execution_count": 31,
   "id": "888e9eb3-a922-48f5-954a-6f5857301dbc",
   "metadata": {},
   "outputs": [
    {
     "name": "stdout",
     "output_type": "stream",
     "text": [
      "5\n",
      "-2\n",
      "190.3\n",
      "10\n"
     ]
    }
   ],
   "source": [
    "#defining a function:\n",
    "def find_max(*args):\n",
    "    if not args:\n",
    "        return None\n",
    "    max_num = args[0]\n",
    "    for num in args[1:]:\n",
    "        if num > max_num:\n",
    "            max_num = num\n",
    "    return max_num\n",
    "\n",
    "#implementation of user define function:\n",
    "print(find_max(1,2,3,4,5))\n",
    "print(find_max(-3,-2,-7))\n",
    "print(find_max(3.16,2.6,190.3))\n",
    "print(find_max(10))\n"
   ]
  },
  {
   "cell_type": "markdown",
   "id": "44669d12-8201-466b-a8e8-f7538f3eb72f",
   "metadata": {},
   "source": [
    "7. Write a Python function display_info that takes:\n",
    "Positional arguments for the name and age of a person.\n",
    "Keyword arguments for other personal details like address, phone number, and email.\n",
    "Example Output:\n",
    "\n",
    "- Name: Alice\n",
    "- Age: 30\n",
    "- Other Details:\n",
    "    - address: 123 Main St\n",
    "    - phone: 123-456-7890\n",
    "    - email: alice@example.com"
   ]
  },
  {
   "cell_type": "code",
   "execution_count": 32,
   "id": "159fd2f2-63ae-4a34-aa57-8609d260e45c",
   "metadata": {},
   "outputs": [
    {
     "name": "stdout",
     "output_type": "stream",
     "text": [
      "Name: Muhammad Sami\n",
      "Age: 26\n",
      "other details:\n",
      "address: Karachi south\n",
      "Phone: 0317-2537440\n",
      "Bloodgroup: O-ve\n"
     ]
    }
   ],
   "source": [
    "#defining a function:\n",
    "def display_info(Name, Age, **kwargs):\n",
    "    print(f\"Name: {Name}\")\n",
    "    print(f\"Age: {Age}\")\n",
    "    if kwargs:\n",
    "        print(\"other details:\")\n",
    "        for key, value in kwargs.items():\n",
    "            print(f\"{key}: {value}\")\n",
    "\n",
    "#implementation of user define function:\n",
    "display_info(\"Muhammad Sami\", 26, address=\"Karachi south\", Phone=\"0317-2537440\", Bloodgroup=\"O-ve\")"
   ]
  },
  {
   "cell_type": "markdown",
   "id": "bdbfd749-11e9-46f5-ab44-624a2799b5ab",
   "metadata": {},
   "source": [
    "8. products = [ {\"name\": \"Laptop\", \"price\": 1200, \"in_stock\": True, \"discount\": 0.1}, {\"name\": \"Smartphone\", \"price\": 800, \"in_stock\": False, \"discount\": 0.05}, {\"name\": \"Headphones\", \"price\": 150, \"in_stock\": True, \"discount\": 0.2}, {\"name\": \"Smartwatch\", \"price\": 300, \"in_stock\": True, \"discount\": 0}, {\"name\": \"Keyboard\", \"price\": 100, \"in_stock\": True, \"discount\": 0.15} ]\n",
    "\n",
    "- Get names of in-stock products:\n",
    "\n",
    "*Use list comprehension to generate a list of names for the products that are in stock.\n",
    "\n",
    "- Calculate final prices for in-stock products after discount:\n",
    "\n",
    "*For products that have a discount, calculate the final price by applying the discount.\n",
    "\n",
    "*For products with no discount, keep the original price.\n",
    "\n",
    "- Generate a list of tuples with the product name and its final price.\n",
    "\n",
    "Example Output:\n",
    "\n",
    "- In-stock product names: ['Laptop', 'Headphones', 'Smartwatch', 'Keyboard']\n",
    "- Discounted prices: [('Laptop', 1080.0), ('Headphones', 120.0), ('Smartwatch', 300), ('Keyboard', 85.0)]"
   ]
  },
  {
   "cell_type": "code",
   "execution_count": 33,
   "id": "df73eb44-e7bf-470d-8377-b702ce084db5",
   "metadata": {},
   "outputs": [
    {
     "name": "stdout",
     "output_type": "stream",
     "text": [
      "- In stock product names: ['Laptop', 'Headphones', 'Smartwatch', 'Keyboard']\n",
      "- Discounted prices: [('Laptop', 1080.0), ('Headphones', 120.0), ('Smartwatch', 300), ('Keyboard', 85.0)]\n"
     ]
    }
   ],
   "source": [
    "#given Dictionary\n",
    "products = [ \n",
    "    {\"name\": \"Laptop\", \"price\": 1200, \"in_stock\": True, \"discount\": 0.1}, \n",
    "    {\"name\": \"Smartphone\", \"price\": 800, \"in_stock\": False, \"discount\": 0.05}, \n",
    "    {\"name\": \"Headphones\", \"price\": 150, \"in_stock\": True, \"discount\": 0.2}, \n",
    "    {\"name\": \"Smartwatch\", \"price\": 300, \"in_stock\": True, \"discount\": 0}, \n",
    "    {\"name\": \"Keyboard\", \"price\": 100, \"in_stock\": True, \"discount\": 0.15}\n",
    "]\n",
    "#defining a Variable:\n",
    "in_stock_names = [product[\"name\"] for product in products if product[\"in_stock\"]]\n",
    "print(\"- In stock product names:\",  in_stock_names)\n",
    "\n",
    "#calculation of final price with list of tuples\n",
    "discounted_prices = [\n",
    "    (product[\"name\"], round(product[\"price\"] * (1 - product[\"discount\"]), 2) if product[\"discount\"] > 0 else product[\"price\"])\n",
    "    for product in products\n",
    "    if product[\"in_stock\"]\n",
    "]\n",
    "#printing the required results.\n",
    "print(\"- Discounted prices:\", discounted_prices)\n"
   ]
  },
  {
   "cell_type": "markdown",
   "id": "82c385f9-3462-4bd5-9932-6494ba7f4ea4",
   "metadata": {},
   "source": [
    "9.Create a list of even numbers between 1 and 20. (List Comprehension)"
   ]
  },
  {
   "cell_type": "code",
   "execution_count": 34,
   "id": "5826dd88-5937-4ac7-b930-b6759976ac82",
   "metadata": {},
   "outputs": [
    {
     "name": "stdout",
     "output_type": "stream",
     "text": [
      "[2, 4, 6, 8, 10, 12, 14, 16, 18, 20]\n"
     ]
    }
   ],
   "source": [
    "\n",
    "#solution using list comprehension:\n",
    "#initializing a veriable:\n",
    "even_numbers = [x for x in range(1, 21) if x % 2 == 0]\n",
    "print(even_numbers)\n"
   ]
  },
  {
   "cell_type": "markdown",
   "id": "aade3ca0-7357-42c0-96c5-05152574ae76",
   "metadata": {},
   "source": [
    "10. Create a list of numbers, generate a new list containing only the numbers that are divisible by 3 or 5. (List Comprehension)"
   ]
  },
  {
   "cell_type": "code",
   "execution_count": 35,
   "id": "da920ee0-3270-49f5-b365-83251729e5cb",
   "metadata": {},
   "outputs": [
    {
     "name": "stdout",
     "output_type": "stream",
     "text": [
      "[1, 2, 3, 4, 5, 6, 7, 8, 9, 10, 11, 12, 13, 14, 15, 16, 17, 18, 19, 20, 21, 22, 23, 24, 25, 26, 27, 28, 29, 30]\n"
     ]
    }
   ],
   "source": [
    "\n",
    "#solution using list comprehension:\n",
    "#initializing a veriable:\n",
    "numbers = list(range(1, 31))\n",
    "print(numbers)\n"
   ]
  }
 ],
 "metadata": {
  "kernelspec": {
   "display_name": "Python 3 (ipykernel)",
   "language": "python",
   "name": "python3"
  },
  "language_info": {
   "codemirror_mode": {
    "name": "ipython",
    "version": 3
   },
   "file_extension": ".py",
   "mimetype": "text/x-python",
   "name": "python",
   "nbconvert_exporter": "python",
   "pygments_lexer": "ipython3",
   "version": "3.12.7"
  }
 },
 "nbformat": 4,
 "nbformat_minor": 5
}
